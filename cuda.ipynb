{
  "nbformat": 4,
  "nbformat_minor": 0,
  "metadata": {
    "colab": {
      "provenance": [],
      "gpuType": "T4",
      "authorship_tag": "ABX9TyOPh4K3esq6uEjHwYtF80ok",
      "include_colab_link": true
    },
    "kernelspec": {
      "name": "python3",
      "display_name": "Python 3"
    },
    "language_info": {
      "name": "python"
    },
    "accelerator": "GPU"
  },
  "cells": [
    {
      "cell_type": "markdown",
      "metadata": {
        "id": "view-in-github",
        "colab_type": "text"
      },
      "source": [
        "<a href=\"https://colab.research.google.com/github/BaggyBro/CUDA_learn/blob/main/cuda.ipynb\" target=\"_parent\"><img src=\"https://colab.research.google.com/assets/colab-badge.svg\" alt=\"Open In Colab\"/></a>"
      ]
    },
    {
      "cell_type": "code",
      "source": [
        "!nvidia-smi"
      ],
      "metadata": {
        "colab": {
          "base_uri": "https://localhost:8080/"
        },
        "id": "brXStczm1xZ0",
        "outputId": "cab69458-f898-4499-f384-ebd9042dca19"
      },
      "execution_count": null,
      "outputs": [
        {
          "output_type": "stream",
          "name": "stdout",
          "text": [
            "Sun Mar 23 07:14:23 2025       \n",
            "+-----------------------------------------------------------------------------------------+\n",
            "| NVIDIA-SMI 550.54.15              Driver Version: 550.54.15      CUDA Version: 12.4     |\n",
            "|-----------------------------------------+------------------------+----------------------+\n",
            "| GPU  Name                 Persistence-M | Bus-Id          Disp.A | Volatile Uncorr. ECC |\n",
            "| Fan  Temp   Perf          Pwr:Usage/Cap |           Memory-Usage | GPU-Util  Compute M. |\n",
            "|                                         |                        |               MIG M. |\n",
            "|=========================================+========================+======================|\n",
            "|   0  Tesla T4                       Off |   00000000:00:04.0 Off |                    0 |\n",
            "| N/A   38C    P8              9W /   70W |       0MiB /  15360MiB |      0%      Default |\n",
            "|                                         |                        |                  N/A |\n",
            "+-----------------------------------------+------------------------+----------------------+\n",
            "                                                                                         \n",
            "+-----------------------------------------------------------------------------------------+\n",
            "| Processes:                                                                              |\n",
            "|  GPU   GI   CI        PID   Type   Process name                              GPU Memory |\n",
            "|        ID   ID                                                               Usage      |\n",
            "|=========================================================================================|\n",
            "|  No running processes found                                                             |\n",
            "+-----------------------------------------------------------------------------------------+\n"
          ]
        }
      ]
    },
    {
      "cell_type": "code",
      "source": [
        "%%writefile vector_add.cu\n",
        "#include <iostream>\n",
        "#include <cuda_runtime.h>\n",
        "\n",
        "__global__ void vectorAdd(int *a, int *b, int *c, int N) {\n",
        "    int i = threadIdx.x + blockIdx.x * blockDim.x;\n",
        "    if (i < N)\n",
        "        c[i] = a[i] + b[i];\n",
        "}\n",
        "\n",
        "void checkCuda(cudaError_t result, const char *msg) {\n",
        "    if (result != cudaSuccess) {\n",
        "        std::cerr << \"CUDA Error: \" << msg << \" - \" << cudaGetErrorString(result) << std::endl;\n",
        "        exit(1);\n",
        "    }\n",
        "}\n",
        "\n",
        "int main() {\n",
        "    const int N = 10;\n",
        "    int a[N], b[N], c[N];\n",
        "    for (int i = 0; i < N; i++) {\n",
        "        a[i] = i;\n",
        "        b[i] = i * 10;\n",
        "    }\n",
        "\n",
        "    int *d_a, *d_b, *d_c;\n",
        "    checkCuda(cudaMalloc(&d_a, N * sizeof(int)), \"Allocating d_a\");\n",
        "    checkCuda(cudaMalloc(&d_b, N * sizeof(int)), \"Allocating d_b\");\n",
        "    checkCuda(cudaMalloc(&d_c, N * sizeof(int)), \"Allocating d_c\");\n",
        "\n",
        "    checkCuda(cudaMemcpy(d_a, a, N * sizeof(int), cudaMemcpyHostToDevice), \"Copying a\");\n",
        "    checkCuda(cudaMemcpy(d_b, b, N * sizeof(int), cudaMemcpyHostToDevice), \"Copying b\");\n",
        "\n",
        "    int threadsPerBlock = 256;\n",
        "    int blocksPerGrid = (N + threadsPerBlock - 1) / threadsPerBlock;\n",
        "    vectorAdd<<<blocksPerGrid, threadsPerBlock>>>(d_a, d_b, d_c, N);\n",
        "\n",
        "    // Check for kernel launch errors\n",
        "    checkCuda(cudaGetLastError(), \"Kernel launch\");\n",
        "    checkCuda(cudaDeviceSynchronize(), \"Kernel execution\");\n",
        "\n",
        "    checkCuda(cudaMemcpy(c, d_c, N * sizeof(int), cudaMemcpyDeviceToHost), \"Copying c\");\n",
        "\n",
        "    for (int i = 0; i < N; i++)\n",
        "        std::cout << a[i] << \" + \" << b[i] << \" = \" << c[i] << std::endl;\n",
        "\n",
        "    cudaFree(d_a); cudaFree(d_b); cudaFree(d_c);\n",
        "    return 0;\n",
        "}\n"
      ],
      "metadata": {
        "colab": {
          "base_uri": "https://localhost:8080/"
        },
        "id": "xNwSxLd805xL",
        "outputId": "0b18f803-3277-4a51-93bf-9f2dc4e75456"
      },
      "execution_count": null,
      "outputs": [
        {
          "output_type": "stream",
          "name": "stdout",
          "text": [
            "Overwriting vector_add.cu\n"
          ]
        }
      ]
    },
    {
      "cell_type": "code",
      "source": [
        "!nvcc -arch=sm_75 -rdc=true -lcudadevrt -o vector_add vector_add.cu"
      ],
      "metadata": {
        "id": "BVdvTnEH1fO2"
      },
      "execution_count": null,
      "outputs": []
    },
    {
      "cell_type": "code",
      "source": [
        "!./vector_add"
      ],
      "metadata": {
        "colab": {
          "base_uri": "https://localhost:8080/"
        },
        "id": "MYpw-phG1vWm",
        "outputId": "b4fcc0a3-3731-4bc2-ca93-d7cb5562c0f1"
      },
      "execution_count": null,
      "outputs": [
        {
          "output_type": "stream",
          "name": "stdout",
          "text": [
            "0 + 0 = 0\n",
            "1 + 10 = 11\n",
            "2 + 20 = 22\n",
            "3 + 30 = 33\n",
            "4 + 40 = 44\n",
            "5 + 50 = 55\n",
            "6 + 60 = 66\n",
            "7 + 70 = 77\n",
            "8 + 80 = 88\n",
            "9 + 90 = 99\n"
          ]
        }
      ]
    },
    {
      "cell_type": "code",
      "source": [],
      "metadata": {
        "id": "wVUz0nlH26WE"
      },
      "execution_count": null,
      "outputs": []
    }
  ]
}